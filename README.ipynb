{
 "cells": [
  {
   "cell_type": "markdown",
   "metadata": {},
   "source": [
    "# Como configurar/instalar/usar o `flatpak` no `Linux Ubuntu`\n",
    "\n",
    "## Resumo\n",
    "\n",
    "Neste documento estão contidos os principais comandos e configurações para configurar/instalar/usar o `flatpak` no `Linux Ubuntu`.\n",
    "\n",
    "## _Abstract_\n",
    "\n",
    "_This document contains the main commands and settings for configuring/installing/using the `flatpak` on `Linux Ubuntu`._"
   ]
  },
  {
   "cell_type": "markdown",
   "metadata": {},
   "source": [
    "## Descrição [2]\n",
    "\n",
    "### `flatpak`\n",
    "\n",
    "`Flatpak` é uma tecnologia de distribuição de aplicativos que visa fornecer uma maneira universal de empacotar, distribuir e executar aplicativos em diferentes distribuições `Linux`. Ele utiliza contêineres para isolar aplicativos de suas dependências do sistema operacional, permitindo que aplicativos sejam executados de forma mais segura e consistente em diferentes ambientes `Linux`. `Flatpak` facilita a instalação de aplicativos com suas dependências, oferece atualizações independentes do sistema e promove a distribuição de _software_ de forma mais eficiente e controlada.\n"
   ]
  },
  {
   "cell_type": "markdown",
   "metadata": {},
   "source": [
    "## 1. Como configurar/instalar/usar o `flatpak` no `Linux Ubuntu` [1][3]\n",
    "\n",
    "Para configurar/instalar/usar o `flatpak` no `Linux Ubuntu`, você pode seguir estes passos:\n",
    "\n",
    "1. Abra o `Terminal Emulator`. Você pode fazer isso pressionando: `Ctrl + Alt + T`"
   ]
  },
  {
   "cell_type": "markdown",
   "metadata": {},
   "source": [
    "2. Certifique-se de que seu sistema esteja limpo e atualizado.\n",
    "\n",
    "    2.1 Remover pacotes `.deb` antigos ou duplicados do cache local. É útil para liberar espaço, pois remove apenas os pacotes que não podem mais ser baixados (ou seja, versões antigas de pacotes que foram atualizados). Digite o seguinte comando: `sudo apt autoclean`\n",
    "\n",
    "    2.2 Remover pacotes que foram automaticamente instalados para satisfazer as dependências de outros pacotes e que não são mais necessários. Digite o seguinte comando: `sudo apt autoremove -y`\n",
    "\n",
    "    2.3 Buscar as atualizações disponíveis para os pacotes que estão instalados em seu sistema. Digite o seguinte comando e pressione `Enter`: `sudo apt update -y`\n",
    "\n",
    "    2.4 Para ver a lista de pacotes a serem atualizados, digite o seguinte comando e pressione `Enter`:  `sudo apt list --upgradable`\n",
    "\n",
    "    2.5 Realmente atualizar os pacotes instalados para as suas versões mais recentes, com base na última vez que você executou `sudo apt update -y`. Digite o seguinte comando e pressione `Enter`: `sudo apt full-upgrade -y`\n",
    "\n",
    "    2.6 Remover pacotes que foram automaticamente instalados para satisfazer as dependências de outros pacotes e que não são mais necessários. Digite o seguinte comando: `sudo apt autoremove -y`\n",
    "\n",
    "    2.7 Remover pacotes `.deb` antigos ou duplicados do cache local. É útil para liberar espaço, pois remove apenas os pacotes que não podem mais ser baixados (ou seja, versões antigas de pacotes que foram atualizados). Digite o seguinte comando: `sudo apt autoclean`"
   ]
  },
  {
   "cell_type": "markdown",
   "metadata": {},
   "source": [
    "3. **Instalação do `Flatpak`**: Após atualizar o índice de pacotes, você pode instalar o `flatpak` usando o gerenciador de pacotes `apt`: `sudo apt install flatpak -y`\n",
    "\n",
    "4. **Adicionar o `Flathub` (opcional)**: O `Flathub` é um repositório de aplicativos `Flatpak` que contém uma ampla variedade de softwares. Adicionar o `Flathub` permite que você instale aplicativos adicionais via `Flatpak`: `flatpak remote-add --if-not-exists flathub https://flathub.org/repo/flathub.flatpakrepo`\n",
    "\n",
    "5. **Verificação da Instalação**: Para verificar se o `flatpak` foi instalado corretamente, você pode usar o comando: `flatpak --version`\n",
    "\n",
    "    Isso deve exibir a versão do `flatpak` instalada, confirmando que o processo de instalação foi concluído com sucesso.\n",
    "\n",
    "Com esses passos, você terá instalado o `flatpak` no seu sistema Ubuntu e estará pronto para começar a instalar aplicativos utilizando esse formato de pacote."
   ]
  },
  {
   "cell_type": "markdown",
   "metadata": {
    "vscode": {
     "languageId": "plaintext"
    }
   },
   "source": [
    "### 1.1 Código completo para configurar/instalar/usar\n",
    "\n",
    "Para configurar/instalar/usar o `flatpak` no `Linux Ubuntu` sem precisar digitar linha por linha, você pode seguir estas etapas:\n",
    "\n",
    "1. Abra o `Terminal Emulator`. Você pode fazer isso pressionando: `Ctrl + Alt + T`\n",
    "\n",
    "2. Digite o seguinte comando e pressione `Enter`:\n",
    "\n",
    "    ```\n",
    "    sudo apt clean                               \n",
    "    sudo apt autoclean\n",
    "    sudo apt autoremove\n",
    "    sudo apt update -y\n",
    "    sudo apt autoremove\n",
    "    sudo apt autoclean\n",
    "    sudo apt list --upgradable\n",
    "    sudo apt full-upgrade -y\n",
    "    sudo apt install flatpak -y\n",
    "    flatpak remote-add --if-not-exists flathub https://flathub.org/repo/flathub.flatpakrepo\n",
    "    flatpak --version\n",
    "    ```\n"
   ]
  },
  {
   "cell_type": "markdown",
   "metadata": {
    "vscode": {
     "languageId": "plaintext"
    }
   },
   "source": [
    "## Referências\n",
    "\n",
    "[1] OPENAI. ***Instalar flatpak no Ubuntu.*** Disponível em: <https://chatgpt.com/c/0f5f9689-6636-4dff-8a4e-fa3a8cf11b15> (texto adaptado). Acessado em: 18/03/2023 17:11.\n",
    "\n",
    "[2] OPENAI. ***Vs code: editor popular.*** Disponível em: <https://chat.openai.com/c/b640a25d-f8e3-4922-8a3b-ed74a2657e42> (texto adaptado). Acessado em: 18/03/2024 17:10.\n"
   ]
  }
 ],
 "metadata": {
  "kernelspec": {
   "display_name": "Python 3",
   "language": "python",
   "name": "python3"
  },
  "language_info": {
   "codemirror_mode": {
    "name": "ipython",
    "version": 3
   },
   "file_extension": ".py",
   "mimetype": "text/x-python",
   "name": "python",
   "nbconvert_exporter": "python",
   "pygments_lexer": "ipython3",
   "version": "3.11.8"
  },
  "orig_nbformat": 4
 },
 "nbformat": 4,
 "nbformat_minor": 2
}
